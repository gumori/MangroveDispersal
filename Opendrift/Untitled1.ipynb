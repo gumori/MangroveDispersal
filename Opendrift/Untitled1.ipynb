{
 "cells": [
  {
   "cell_type": "code",
   "execution_count": 3,
   "metadata": {},
   "outputs": [],
   "source": [
    "from datetime import datetime, timedelta\n",
    "import numpy as np\n",
    "import opendrift\n",
    "from opendrift.models.oceandrift import OceanDrift\n",
    "from opendrift.readers import reader_netCDF_CF_generic\n",
    "from opendrift.readers import reader_global_landmask"
   ]
  },
  {
   "cell_type": "code",
   "execution_count": 4,
   "metadata": {},
   "outputs": [],
   "source": [
    "main_reader = reader_netCDF_CF_generic.Reader('Brazil_10-21.nc', standard_name_mapping={'u':'x_sea_water_velocity', 'v':'y_sea_water_velocity'})"
   ]
  },
  {
   "cell_type": "code",
   "execution_count": 8,
   "metadata": {},
   "outputs": [
    {
     "name": "stdout",
     "output_type": "stream",
     "text": [
      "===========================\n",
      "Reader: Brazil_10-21.nc\n",
      "Projection: \n",
      "  +proj=latlong\n",
      "Coverage: [degrees]\n",
      "  xmin: 290.000000   xmax: 334.000000   step: 0.333333   numx: 132\n",
      "  ymin: -37.000000   ymax: 16.000000   step: 0.333333   numy: 160\n",
      "  Corners (lon, lat):\n",
      "    (290.00,  16.00)  (334.00,  16.00)\n",
      "    (290.00, -37.00)  (334.00, -37.00)\n",
      "Vertical levels [m]: \n",
      "  [-15.]\n",
      "Available time range:\n",
      "  start: 2010-01-01 00:00:00   end: 2021-01-01 00:00:00   step: 5 days, 0:00:00\n",
      "    804 times (80 missing)\n",
      "Variables:\n",
      "  x_sea_water_velocity\n",
      "  y_sea_water_velocity\n",
      "===========================\n",
      "\n"
     ]
    }
   ],
   "source": [
    "print(main_reader)\n"
   ]
  }
 ],
 "metadata": {
  "kernelspec": {
   "display_name": "Python 3",
   "language": "python",
   "name": "python3"
  },
  "language_info": {
   "codemirror_mode": {
    "name": "ipython",
    "version": 3
   },
   "file_extension": ".py",
   "mimetype": "text/x-python",
   "name": "python",
   "nbconvert_exporter": "python",
   "pygments_lexer": "ipython3",
   "version": "3.7.3"
  }
 },
 "nbformat": 4,
 "nbformat_minor": 2
}
